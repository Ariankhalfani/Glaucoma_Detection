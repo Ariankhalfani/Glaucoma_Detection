{
 "cells": [
  {
   "cell_type": "code",
   "execution_count": 5,
   "metadata": {},
   "outputs": [
    {
     "name": "stdout",
     "output_type": "stream",
     "text": [
      "Collecting tensorflow\n",
      "  Downloading tensorflow-2.15.0-cp311-cp311-manylinux_2_17_x86_64.manylinux2014_x86_64.whl (475.3 MB)\n",
      "\u001b[2K     \u001b[91m━━━━━━━━━━━━\u001b[0m\u001b[91m╸\u001b[0m\u001b[90m━━━━━━━━━━━━━━━━━━━━━━━━━━\u001b[0m \u001b[32m156.0/475.3 MB\u001b[0m \u001b[31m1.6 MB/s\u001b[0m eta \u001b[36m0:03:15\u001b[0m"
     ]
    }
   ],
   "source": [
    "!pip install tensorflow"
   ]
  },
  {
   "cell_type": "code",
   "execution_count": null,
   "metadata": {},
   "outputs": [],
   "source": [
    "import tensorflow as tf\n",
    "from tensorflow.keras import datasets, layers, models\n",
    "import matplotlib.pyplot as plt\n",
    "import cv2\n",
    "import os\n",
    "import numpy as np"
   ]
  },
  {
   "cell_type": "code",
   "execution_count": 2,
   "metadata": {},
   "outputs": [],
   "source": [
    "def load_glaucoma_dataset(data_dir, image_size):\n",
    "    images = []\n",
    "    labels = []\n",
    "    class_names = ['Glaucoma_Negative', 'Glaucoma_Positive']\n",
    "    \n",
    "    for class_name in class_names:\n",
    "        class_dir = os.path.join(data_dir, class_name)\n",
    "        class_label = class_names.index(class_name)\n",
    "        \n",
    "        for filename in os.listdir(class_dir):\n",
    "            if filename.endswith(\".jpg\"):  # Adjust the file extension based on your dataset\n",
    "                img_path = os.path.join(class_dir, filename)\n",
    "                img = cv2.imread(img_path)\n",
    "                img = cv2.resize(img, (image_size, image_size))  # Resize images to match the model input size\n",
    "                img = img / 255.0  # Normalize pixel values\n",
    "                images.append(img)\n",
    "                labels.append(class_label)\n",
    "                \n",
    "    return np.array(images), np.array(labels)"
   ]
  },
  {
   "cell_type": "code",
   "execution_count": 3,
   "metadata": {},
   "outputs": [],
   "source": [
    "# Replace 'your_dataset_path' with the actual path to your glaucoma dataset\n",
    "your_dataset_path = '/home/user/Documents/Transfer/'\n",
    "your_image_size = 32  # Change this to the size of your dataset images\n",
    "glaucoma_train_images, glaucoma_train_labels = load_glaucoma_dataset(os.path.join(your_dataset_path, 'train'), your_image_size)\n",
    "glaucoma_test_images, glaucoma_test_labels = load_glaucoma_dataset(os.path.join(your_dataset_path, 'test'), your_image_size)"
   ]
  },
  {
   "cell_type": "code",
   "execution_count": 4,
   "metadata": {},
   "outputs": [],
   "source": [
    "# Model definition and modification for binary classification\n",
    "model = models.Sequential()\n",
    "model.add(layers.Conv2D(32, (3, 3), activation='relu', input_shape=(your_image_size, your_image_size, 3)))\n",
    "model.add(layers.MaxPooling2D((2, 2)))\n",
    "model.add(layers.Conv2D(64, (3, 3), activation='relu'))\n",
    "model.add(layers.MaxPooling2D((2, 2)))\n",
    "model.add(layers.Conv2D(64, (3, 3), activation='relu'))"
   ]
  },
  {
   "cell_type": "code",
   "execution_count": 5,
   "metadata": {},
   "outputs": [
    {
     "name": "stdout",
     "output_type": "stream",
     "text": [
      "Model: \"sequential\"\n",
      "_________________________________________________________________\n",
      " Layer (type)                Output Shape              Param #   \n",
      "=================================================================\n",
      " conv2d (Conv2D)             (None, 30, 30, 32)        896       \n",
      "                                                                 \n",
      " max_pooling2d (MaxPooling2D  (None, 15, 15, 32)       0         \n",
      " )                                                               \n",
      "                                                                 \n",
      " conv2d_1 (Conv2D)           (None, 13, 13, 64)        18496     \n",
      "                                                                 \n",
      " max_pooling2d_1 (MaxPooling  (None, 6, 6, 64)         0         \n",
      " 2D)                                                             \n",
      "                                                                 \n",
      " conv2d_2 (Conv2D)           (None, 4, 4, 64)          36928     \n",
      "                                                                 \n",
      "=================================================================\n",
      "Total params: 56,320\n",
      "Trainable params: 56,320\n",
      "Non-trainable params: 0\n",
      "_________________________________________________________________\n"
     ]
    }
   ],
   "source": [
    "model.summary()"
   ]
  },
  {
   "cell_type": "code",
   "execution_count": 6,
   "metadata": {},
   "outputs": [],
   "source": [
    "model.add(layers.Flatten())\n",
    "model.add(layers.Dense(128, activation='relu'))  \n",
    "model.add(layers.Dense(64, activation='relu'))\n",
    "model.add(layers.Dense(1, activation='sigmoid'))"
   ]
  },
  {
   "cell_type": "code",
   "execution_count": 7,
   "metadata": {},
   "outputs": [
    {
     "name": "stdout",
     "output_type": "stream",
     "text": [
      "Epoch 1/80\n"
     ]
    },
    {
     "name": "stdout",
     "output_type": "stream",
     "text": [
      "14/14 [==============================] - 2s 48ms/step - loss: 0.6288 - accuracy: 0.6667 - val_loss: 0.6246 - val_accuracy: 0.7589\n",
      "Epoch 2/80\n",
      "14/14 [==============================] - 0s 27ms/step - loss: 0.6230 - accuracy: 0.6920 - val_loss: 0.5644 - val_accuracy: 0.7589\n",
      "Epoch 3/80\n",
      "14/14 [==============================] - 0s 28ms/step - loss: 0.6250 - accuracy: 0.6920 - val_loss: 0.5671 - val_accuracy: 0.7589\n",
      "Epoch 4/80\n",
      "14/14 [==============================] - 0s 28ms/step - loss: 0.6168 - accuracy: 0.6920 - val_loss: 0.5752 - val_accuracy: 0.7589\n",
      "Epoch 5/80\n",
      "14/14 [==============================] - 0s 27ms/step - loss: 0.6168 - accuracy: 0.6920 - val_loss: 0.5666 - val_accuracy: 0.7589\n",
      "Epoch 6/80\n",
      "14/14 [==============================] - 0s 27ms/step - loss: 0.6208 - accuracy: 0.6920 - val_loss: 0.5961 - val_accuracy: 0.7589\n",
      "Epoch 7/80\n",
      "14/14 [==============================] - 0s 27ms/step - loss: 0.6181 - accuracy: 0.6920 - val_loss: 0.5628 - val_accuracy: 0.7589\n",
      "Epoch 8/80\n",
      "14/14 [==============================] - 0s 28ms/step - loss: 0.6172 - accuracy: 0.6920 - val_loss: 0.5760 - val_accuracy: 0.7589\n",
      "Epoch 9/80\n",
      "14/14 [==============================] - 0s 28ms/step - loss: 0.6156 - accuracy: 0.6920 - val_loss: 0.5744 - val_accuracy: 0.7589\n",
      "Epoch 10/80\n",
      "14/14 [==============================] - 0s 28ms/step - loss: 0.6157 - accuracy: 0.6920 - val_loss: 0.5721 - val_accuracy: 0.7589\n",
      "Epoch 11/80\n",
      "14/14 [==============================] - 0s 36ms/step - loss: 0.6165 - accuracy: 0.6920 - val_loss: 0.5606 - val_accuracy: 0.7589\n",
      "Epoch 12/80\n",
      "14/14 [==============================] - 0s 31ms/step - loss: 0.6177 - accuracy: 0.6920 - val_loss: 0.5773 - val_accuracy: 0.7589\n",
      "Epoch 13/80\n",
      "14/14 [==============================] - 0s 30ms/step - loss: 0.6146 - accuracy: 0.6920 - val_loss: 0.5664 - val_accuracy: 0.7589\n",
      "Epoch 14/80\n",
      "14/14 [==============================] - 0s 30ms/step - loss: 0.6138 - accuracy: 0.6920 - val_loss: 0.5663 - val_accuracy: 0.7589\n",
      "Epoch 15/80\n",
      "14/14 [==============================] - 1s 38ms/step - loss: 0.6121 - accuracy: 0.6920 - val_loss: 0.5655 - val_accuracy: 0.7589\n",
      "Epoch 16/80\n",
      "14/14 [==============================] - 0s 33ms/step - loss: 0.6124 - accuracy: 0.6920 - val_loss: 0.5558 - val_accuracy: 0.7589\n",
      "Epoch 17/80\n",
      "14/14 [==============================] - 0s 32ms/step - loss: 0.6162 - accuracy: 0.6920 - val_loss: 0.5576 - val_accuracy: 0.7589\n",
      "Epoch 18/80\n",
      "14/14 [==============================] - 0s 31ms/step - loss: 0.6088 - accuracy: 0.6920 - val_loss: 0.5559 - val_accuracy: 0.7589\n",
      "Epoch 19/80\n",
      "14/14 [==============================] - 0s 32ms/step - loss: 0.6032 - accuracy: 0.6920 - val_loss: 0.6129 - val_accuracy: 0.7589\n",
      "Epoch 20/80\n",
      "14/14 [==============================] - 0s 32ms/step - loss: 0.6284 - accuracy: 0.6920 - val_loss: 0.5651 - val_accuracy: 0.7589\n",
      "Epoch 21/80\n",
      "14/14 [==============================] - 0s 32ms/step - loss: 0.6163 - accuracy: 0.6920 - val_loss: 0.5754 - val_accuracy: 0.7589\n",
      "Epoch 22/80\n",
      "14/14 [==============================] - 0s 32ms/step - loss: 0.5949 - accuracy: 0.6920 - val_loss: 0.5356 - val_accuracy: 0.7589\n",
      "Epoch 23/80\n",
      "14/14 [==============================] - 0s 31ms/step - loss: 0.6009 - accuracy: 0.6920 - val_loss: 0.5420 - val_accuracy: 0.7589\n",
      "Epoch 24/80\n",
      "14/14 [==============================] - 0s 31ms/step - loss: 0.5856 - accuracy: 0.6920 - val_loss: 0.5238 - val_accuracy: 0.7589\n",
      "Epoch 25/80\n",
      "14/14 [==============================] - 0s 31ms/step - loss: 0.5919 - accuracy: 0.6920 - val_loss: 0.5853 - val_accuracy: 0.8036\n",
      "Epoch 26/80\n",
      "14/14 [==============================] - 0s 29ms/step - loss: 0.5705 - accuracy: 0.7218 - val_loss: 0.5261 - val_accuracy: 0.8304\n",
      "Epoch 27/80\n",
      "14/14 [==============================] - 0s 34ms/step - loss: 0.5309 - accuracy: 0.7218 - val_loss: 0.4560 - val_accuracy: 0.8304\n",
      "Epoch 28/80\n",
      "14/14 [==============================] - 1s 39ms/step - loss: 0.5343 - accuracy: 0.7218 - val_loss: 0.4537 - val_accuracy: 0.8125\n",
      "Epoch 29/80\n",
      "14/14 [==============================] - 0s 30ms/step - loss: 0.5907 - accuracy: 0.6897 - val_loss: 0.4728 - val_accuracy: 0.7768\n",
      "Epoch 30/80\n",
      "14/14 [==============================] - 0s 30ms/step - loss: 0.5128 - accuracy: 0.7402 - val_loss: 0.4995 - val_accuracy: 0.7768\n",
      "Epoch 31/80\n",
      "14/14 [==============================] - 0s 33ms/step - loss: 0.5078 - accuracy: 0.7333 - val_loss: 0.4190 - val_accuracy: 0.8482\n",
      "Epoch 32/80\n",
      "14/14 [==============================] - 0s 33ms/step - loss: 0.4853 - accuracy: 0.7655 - val_loss: 0.4042 - val_accuracy: 0.8214\n",
      "Epoch 33/80\n",
      "14/14 [==============================] - 0s 28ms/step - loss: 0.4608 - accuracy: 0.7632 - val_loss: 0.4287 - val_accuracy: 0.8036\n",
      "Epoch 34/80\n",
      "14/14 [==============================] - 0s 29ms/step - loss: 0.4647 - accuracy: 0.7862 - val_loss: 0.3938 - val_accuracy: 0.8125\n",
      "Epoch 35/80\n",
      "14/14 [==============================] - 0s 30ms/step - loss: 0.4593 - accuracy: 0.7931 - val_loss: 0.3901 - val_accuracy: 0.8214\n",
      "Epoch 36/80\n",
      "14/14 [==============================] - 0s 31ms/step - loss: 0.4517 - accuracy: 0.7770 - val_loss: 0.3884 - val_accuracy: 0.8304\n",
      "Epoch 37/80\n",
      "14/14 [==============================] - 0s 30ms/step - loss: 0.4302 - accuracy: 0.8023 - val_loss: 0.3722 - val_accuracy: 0.8661\n",
      "Epoch 38/80\n",
      "14/14 [==============================] - 0s 30ms/step - loss: 0.4266 - accuracy: 0.7977 - val_loss: 0.3469 - val_accuracy: 0.8393\n",
      "Epoch 39/80\n",
      "14/14 [==============================] - 0s 32ms/step - loss: 0.4114 - accuracy: 0.7954 - val_loss: 0.3501 - val_accuracy: 0.8571\n",
      "Epoch 40/80\n",
      "14/14 [==============================] - 0s 29ms/step - loss: 0.3943 - accuracy: 0.8184 - val_loss: 0.3482 - val_accuracy: 0.8571\n",
      "Epoch 41/80\n",
      "14/14 [==============================] - 0s 30ms/step - loss: 0.3884 - accuracy: 0.8322 - val_loss: 0.3406 - val_accuracy: 0.8482\n",
      "Epoch 42/80\n",
      "14/14 [==============================] - 0s 33ms/step - loss: 0.4017 - accuracy: 0.7839 - val_loss: 0.4124 - val_accuracy: 0.7679\n",
      "Epoch 43/80\n",
      "14/14 [==============================] - 0s 30ms/step - loss: 0.3865 - accuracy: 0.8069 - val_loss: 0.3607 - val_accuracy: 0.8393\n",
      "Epoch 44/80\n",
      "14/14 [==============================] - 0s 31ms/step - loss: 0.3746 - accuracy: 0.8529 - val_loss: 0.3404 - val_accuracy: 0.8661\n",
      "Epoch 45/80\n",
      "14/14 [==============================] - 0s 35ms/step - loss: 0.3717 - accuracy: 0.8460 - val_loss: 0.4014 - val_accuracy: 0.7768\n",
      "Epoch 46/80\n",
      "14/14 [==============================] - 0s 31ms/step - loss: 0.3654 - accuracy: 0.8391 - val_loss: 0.3132 - val_accuracy: 0.8571\n",
      "Epoch 47/80\n",
      "14/14 [==============================] - 0s 30ms/step - loss: 0.3615 - accuracy: 0.8529 - val_loss: 0.3266 - val_accuracy: 0.8571\n",
      "Epoch 48/80\n",
      "14/14 [==============================] - 0s 34ms/step - loss: 0.3251 - accuracy: 0.8828 - val_loss: 0.2958 - val_accuracy: 0.8571\n",
      "Epoch 49/80\n",
      "14/14 [==============================] - 0s 29ms/step - loss: 0.3293 - accuracy: 0.8644 - val_loss: 0.2812 - val_accuracy: 0.8661\n",
      "Epoch 50/80\n",
      "14/14 [==============================] - 0s 32ms/step - loss: 0.3277 - accuracy: 0.8460 - val_loss: 0.3948 - val_accuracy: 0.8036\n",
      "Epoch 51/80\n",
      "14/14 [==============================] - 0s 30ms/step - loss: 0.2921 - accuracy: 0.8828 - val_loss: 0.2964 - val_accuracy: 0.8571\n",
      "Epoch 52/80\n",
      "14/14 [==============================] - 0s 31ms/step - loss: 0.2922 - accuracy: 0.8897 - val_loss: 0.3444 - val_accuracy: 0.8393\n",
      "Epoch 53/80\n",
      "14/14 [==============================] - 0s 29ms/step - loss: 0.2945 - accuracy: 0.8575 - val_loss: 0.4644 - val_accuracy: 0.7411\n",
      "Epoch 54/80\n",
      "14/14 [==============================] - 0s 29ms/step - loss: 0.2765 - accuracy: 0.8943 - val_loss: 0.3027 - val_accuracy: 0.8750\n",
      "Epoch 55/80\n",
      "14/14 [==============================] - 0s 29ms/step - loss: 0.2494 - accuracy: 0.9057 - val_loss: 0.3541 - val_accuracy: 0.8482\n",
      "Epoch 56/80\n",
      "14/14 [==============================] - 0s 29ms/step - loss: 0.2309 - accuracy: 0.9057 - val_loss: 0.3246 - val_accuracy: 0.8393\n",
      "Epoch 57/80\n",
      "14/14 [==============================] - 0s 30ms/step - loss: 0.2345 - accuracy: 0.9149 - val_loss: 0.2864 - val_accuracy: 0.8839\n",
      "Epoch 58/80\n",
      "14/14 [==============================] - 0s 29ms/step - loss: 0.2048 - accuracy: 0.9310 - val_loss: 0.5662 - val_accuracy: 0.7321\n",
      "Epoch 59/80\n",
      "14/14 [==============================] - 0s 29ms/step - loss: 0.1957 - accuracy: 0.9218 - val_loss: 0.3899 - val_accuracy: 0.8125\n",
      "Epoch 60/80\n",
      "14/14 [==============================] - 0s 30ms/step - loss: 0.2436 - accuracy: 0.8943 - val_loss: 0.3923 - val_accuracy: 0.8304\n",
      "Epoch 61/80\n",
      "14/14 [==============================] - 0s 30ms/step - loss: 0.2273 - accuracy: 0.9241 - val_loss: 0.3279 - val_accuracy: 0.8661\n",
      "Epoch 62/80\n",
      "14/14 [==============================] - 0s 30ms/step - loss: 0.2343 - accuracy: 0.8989 - val_loss: 0.5094 - val_accuracy: 0.8036\n",
      "Epoch 63/80\n",
      "14/14 [==============================] - 0s 31ms/step - loss: 0.1933 - accuracy: 0.9218 - val_loss: 0.2729 - val_accuracy: 0.8661\n",
      "Epoch 64/80\n",
      "14/14 [==============================] - 0s 31ms/step - loss: 0.1909 - accuracy: 0.9310 - val_loss: 0.6073 - val_accuracy: 0.7857\n",
      "Epoch 65/80\n",
      "14/14 [==============================] - 0s 29ms/step - loss: 0.1647 - accuracy: 0.9287 - val_loss: 0.2584 - val_accuracy: 0.8750\n",
      "Epoch 66/80\n",
      "14/14 [==============================] - 0s 30ms/step - loss: 0.2059 - accuracy: 0.9195 - val_loss: 0.4581 - val_accuracy: 0.7946\n",
      "Epoch 67/80\n",
      "14/14 [==============================] - 0s 34ms/step - loss: 0.2147 - accuracy: 0.9172 - val_loss: 0.6749 - val_accuracy: 0.7143\n",
      "Epoch 68/80\n",
      "14/14 [==============================] - 0s 31ms/step - loss: 0.1946 - accuracy: 0.9218 - val_loss: 0.3690 - val_accuracy: 0.8304\n",
      "Epoch 69/80\n",
      "14/14 [==============================] - 0s 30ms/step - loss: 0.1600 - accuracy: 0.9517 - val_loss: 0.2435 - val_accuracy: 0.9018\n",
      "Epoch 70/80\n",
      "14/14 [==============================] - 0s 29ms/step - loss: 0.1185 - accuracy: 0.9678 - val_loss: 0.6119 - val_accuracy: 0.7768\n",
      "Epoch 71/80\n",
      "14/14 [==============================] - 0s 29ms/step - loss: 0.0997 - accuracy: 0.9770 - val_loss: 0.5146 - val_accuracy: 0.8036\n",
      "Epoch 72/80\n",
      "14/14 [==============================] - 0s 29ms/step - loss: 0.0835 - accuracy: 0.9862 - val_loss: 0.4664 - val_accuracy: 0.7946\n",
      "Epoch 73/80\n",
      "14/14 [==============================] - 0s 29ms/step - loss: 0.0953 - accuracy: 0.9701 - val_loss: 0.2600 - val_accuracy: 0.9018\n",
      "Epoch 74/80\n",
      "14/14 [==============================] - 0s 29ms/step - loss: 0.1223 - accuracy: 0.9586 - val_loss: 0.5648 - val_accuracy: 0.7500\n",
      "Epoch 75/80\n",
      "14/14 [==============================] - 0s 30ms/step - loss: 0.1163 - accuracy: 0.9655 - val_loss: 0.6462 - val_accuracy: 0.7679\n",
      "Epoch 76/80\n",
      "14/14 [==============================] - 0s 30ms/step - loss: 0.0888 - accuracy: 0.9770 - val_loss: 0.2372 - val_accuracy: 0.8929\n",
      "Epoch 77/80\n",
      "14/14 [==============================] - 0s 29ms/step - loss: 0.1303 - accuracy: 0.9494 - val_loss: 0.8657 - val_accuracy: 0.7232\n",
      "Epoch 78/80\n",
      "14/14 [==============================] - 0s 29ms/step - loss: 0.0757 - accuracy: 0.9793 - val_loss: 0.5773 - val_accuracy: 0.7768\n",
      "Epoch 79/80\n",
      "14/14 [==============================] - 0s 30ms/step - loss: 0.0522 - accuracy: 0.9885 - val_loss: 0.5200 - val_accuracy: 0.8304\n",
      "Epoch 80/80\n",
      "14/14 [==============================] - 0s 29ms/step - loss: 0.0658 - accuracy: 0.9770 - val_loss: 0.6902 - val_accuracy: 0.7411\n"
     ]
    }
   ],
   "source": [
    "model.compile(optimizer='adam',\n",
    "              loss='binary_crossentropy',\n",
    "              metrics=['accuracy'])\n",
    "\n",
    "history = model.fit(glaucoma_train_images, glaucoma_train_labels, epochs=80, \n",
    "                    validation_data=(glaucoma_test_images, glaucoma_test_labels))"
   ]
  },
  {
   "cell_type": "code",
   "execution_count": 8,
   "metadata": {},
   "outputs": [
    {
     "data": {
      "text/plain": [
       "<matplotlib.legend.Legend at 0x226866cc950>"
      ]
     },
     "execution_count": 8,
     "metadata": {},
     "output_type": "execute_result"
    },
    {
     "data": {
      "image/png": "[encoded data removed]",
      "text/plain": [
       "<Figure size 640x480 with 1 Axes>"
      ]
     },
     "metadata": {},
     "output_type": "display_data"
    }
   ],
   "source": [
    "# Plotting the training history\n",
    "plt.plot(history.history['accuracy'], label='accuracy')\n",
    "plt.plot(history.history['val_accuracy'], label='val_accuracy')\n",
    "plt.plot(history.history['val_loss'], label='val_loss')\n",
    "plt.xlabel('Epoch')\n",
    "plt.ylabel('Accuracy')\n",
    "plt.ylim([0, 1])\n",
    "plt.legend(loc='lower right')"
   ]
  },
  {
   "cell_type": "code",
   "execution_count": 9,
   "metadata": {},
   "outputs": [],
   "source": [
    "from sklearn.metrics import confusion_matrix, classification_report\n"
   ]
  },
  {
   "cell_type": "code",
   "execution_count": 10,
   "metadata": {},
   "outputs": [
    {
     "name": "stdout",
     "output_type": "stream",
     "text": [
      "4/4 - 0s - loss: 0.6902 - accuracy: 0.7411 - 78ms/epoch - 19ms/step\n",
      "Test accuracy: 0.7410714030265808\n",
      "4/4 [==============================] - 0s 9ms/step\n",
      "Classification Report:\n",
      "              precision    recall  f1-score   support\n",
      "\n",
      "           0       1.00      0.66      0.79        85\n",
      "           1       0.48      1.00      0.65        27\n",
      "\n",
      "    accuracy                           0.74       112\n",
      "   macro avg       0.74      0.83      0.72       112\n",
      "weighted avg       0.88      0.74      0.76       112\n",
      "\n",
      "Confusion Matrix:\n",
      "[[56 29]\n",
      " [ 0 27]]\n"
     ]
    }
   ],
   "source": [
    "# Evaluate the model on the test set\n",
    "test_loss, test_acc = model.evaluate(glaucoma_test_images, glaucoma_test_labels, verbose=2)\n",
    "print(\"Test accuracy:\", test_acc)\n",
    "\n",
    "# Make predictions on the test set\n",
    "predictions = model.predict(glaucoma_test_images)\n",
    "predicted_labels = np.round(predictions).flatten()\n",
    "\n",
    "# Print classification report\n",
    "print(\"Classification Report:\")\n",
    "print(classification_report(glaucoma_test_labels, predicted_labels))\n",
    "\n",
    "# Print confusion matrix\n",
    "print(\"Confusion Matrix:\")\n",
    "print(confusion_matrix(glaucoma_test_labels, predicted_labels))"
   ]
  }
 ],
 "metadata": {
  "kernelspec": {
   "display_name": "Python 3",
   "language": "python",
   "name": "python3"
  },
  "language_info": {
   "codemirror_mode": {
    "name": "ipython",
    "version": 3
   },
   "file_extension": ".py",
   "mimetype": "text/x-python",
   "name": "python",
   "nbconvert_exporter": "python",
   "pygments_lexer": "ipython3",
   "version": "3.11.4"
  }
 },
 "nbformat": 4,
 "nbformat_minor": 2
}
