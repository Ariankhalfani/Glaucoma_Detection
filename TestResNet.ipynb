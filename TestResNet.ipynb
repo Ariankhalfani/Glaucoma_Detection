{
  "nbformat": 4,
  "nbformat_minor": 0,
  "metadata": {
    "colab": {
      "provenance": [],
      "gpuType": "T4"
    },
    "kernelspec": {
      "name": "python3",
      "display_name": "Python 3"
    },
    "language_info": {
      "name": "python"
    },
    "accelerator": "GPU"
  },
  "cells": [
    {
      "cell_type": "code",
      "source": [
        "from google.colab import drive\n",
        "\n",
        "# Mount Google Drive\n",
        "drive.mount('/content/drive')"
      ],
      "metadata": {
        "colab": {
          "base_uri": "https://localhost:8080/"
        },
        "id": "7kMdNlxESxv8",
        "outputId": "efba358b-50cd-45d2-ffc1-d411c701d5ce"
      },
      "execution_count": null,
      "outputs": [
        {
          "output_type": "stream",
          "name": "stdout",
          "text": [
            "Mounted at /content/drive\n"
          ]
        }
      ]
    },
    {
      "cell_type": "code",
      "execution_count": null,
      "metadata": {
        "id": "b5dm4-qdSo5y"
      },
      "outputs": [],
      "source": [
        "import tensorflow as tf\n",
        "from tensorflow.keras import datasets, layers, models\n",
        "from tensorflow.keras.applications import ResNet152V2\n",
        "from tensorflow.keras.callbacks import EarlyStopping\n",
        "from sklearn.metrics import confusion_matrix, classification_report\n",
        "from sklearn.metrics import classification_report, confusion_matrix, average_precision_score\n",
        "import matplotlib.pyplot as plt\n",
        "import cv2\n",
        "import os\n",
        "import numpy as np"
      ]
    },
    {
      "cell_type": "code",
      "source": [
        "def load_glaucoma_dataset(data_dir, image_size):\n",
        "    images = []\n",
        "    labels = []\n",
        "    class_names = ['Glaucoma_Positive', 'Glaucoma_Negative']\n",
        "\n",
        "    for class_name in class_names:\n",
        "        class_dir = os.path.join(data_dir, class_name)\n",
        "        class_label = class_names.index(class_name)\n",
        "\n",
        "        for filename in os.listdir(class_dir):\n",
        "            if filename.endswith(\".jpg\"):\n",
        "                img_path = os.path.join(class_dir, filename)\n",
        "                img = cv2.imread(img_path)\n",
        "                img = cv2.resize(img, (image_size, image_size))\n",
        "                img = img / 255.0\n",
        "                images.append(img)\n",
        "                labels.append(class_label)\n",
        "\n",
        "    return np.array(images), np.array(labels)"
      ],
      "metadata": {
        "id": "62qW1JCmS0o9"
      },
      "execution_count": null,
      "outputs": []
    },
    {
      "cell_type": "code",
      "source": [
        "from tensorflow.keras.models import load_model\n",
        "from tensorflow.keras.preprocessing.image import ImageDataGenerator\n",
        "from sklearn.metrics import confusion_matrix, classification_report\n",
        "import numpy as np\n",
        "import os\n",
        "\n",
        "def load_glaucoma_dataset_generator(dataset_path, image_size, batch_size=32):\n",
        "    datagen = ImageDataGenerator(rescale=1./255)\n",
        "\n",
        "    generator = datagen.flow_from_directory(\n",
        "        dataset_path,\n",
        "        target_size=(image_size, image_size),\n",
        "        batch_size=batch_size,\n",
        "        class_mode='binary',  # Assuming it's a binary classification task\n",
        "        shuffle=False  # Ensure that the order is preserved\n",
        "    )\n",
        "\n",
        "    # Retrieve the total number of samples\n",
        "    num_samples = generator.samples\n",
        "\n",
        "    return generator, num_samples\n",
        "\n",
        "# Example usage:\n",
        "your_dataset_path = r\"/content/drive/MyDrive/Dataset_Sardjito\"\n",
        "your_image_size = 224\n",
        "batch_size = 32\n",
        "\n",
        "# Define the path to the test dataset\n",
        "test_dataset_path = os.path.join(your_dataset_path, 'test')\n",
        "\n",
        "# Create a generator for the test dataset\n",
        "test_generator, num_test_samples = load_glaucoma_dataset_generator(test_dataset_path, your_image_size, batch_size)\n",
        "\n",
        "# Define the path to your pre-trained model\n",
        "model_path = \"/content/drive/MyDrive/final_mode223.h5\"  # Change this to the path of your saved model\n",
        "\n",
        "# Load the pre-trained model\n",
        "loaded_model = load_model(model_path)\n",
        "\n",
        "# Initialize variables for confusion matrix\n",
        "all_true_labels = []\n",
        "all_predicted_labels = []\n",
        "\n",
        "# Calculate the total number of batches\n",
        "total_batches = num_test_samples // batch_size\n",
        "\n",
        "# Iterate over batches\n",
        "for i in range(total_batches + 1):  # +1 to include the last batch\n",
        "    batch_images, batch_labels = test_generator.next()\n",
        "\n",
        "    # Perform predictions on the batch\n",
        "    predictions = loaded_model.predict(batch_images)\n",
        "    predicted_labels = np.round(predictions).flatten()\n",
        "\n",
        "    # Append true and predicted labels for confusion matrix\n",
        "    all_true_labels.extend(batch_labels)\n",
        "    all_predicted_labels.extend(predicted_labels)\n",
        "\n",
        "    # Calculate loading and prediction process\n",
        "    process_percentage = (i + 1) / (total_batches + 1) * 100\n",
        "    print(f\"Processing: {process_percentage:.2f}%\")\n",
        "\n",
        "# Convert true and predicted labels to numpy arrays\n",
        "all_true_labels = np.array(all_true_labels)\n",
        "all_predicted_labels = np.array(all_predicted_labels)\n",
        "\n",
        "# Evaluate the model on the entire test set\n",
        "test_loss, test_accuracy = loaded_model.evaluate(test_generator)\n",
        "\n",
        "# Print test accuracy, test loss, confusion matrix, and classification report\n",
        "print(f\"\\nTest Accuracy: {test_accuracy}\")\n",
        "print(f\"Test Loss: {test_loss}\")\n",
        "print(\"\\nConfusion Matrix:\")\n",
        "conf_matrix = confusion_matrix(all_true_labels, all_predicted_labels)\n",
        "print(conf_matrix)\n",
        "print(\"\\nClassification Report:\")\n",
        "class_report = classification_report(all_true_labels, all_predicted_labels)\n",
        "print(class_report)\n",
        "\n",
        "# Save the confusion matrix\n",
        "conf_matrix_save_path = \"/content/drive/MyDrive/confusion_matrix.npy\"\n",
        "np.save(conf_matrix_save_path, conf_matrix)\n",
        "print(f\"\\nConfusion Matrix saved at: {conf_matrix_save_path}\")\n"
      ],
      "metadata": {
        "colab": {
          "base_uri": "https://localhost:8080/"
        },
        "id": "2NZqmH4WTIKV",
        "outputId": "c2c27579-1b02-4a9a-9d3b-287ef152a5f2"
      },
      "execution_count": null,
      "outputs": [
        {
          "output_type": "stream",
          "name": "stdout",
          "text": [
            "Found 196 images belonging to 2 classes.\n",
            "1/1 [==============================] - 12s 12s/step\n",
            "Processing: 14.29%\n",
            "1/1 [==============================] - 9s 9s/step\n",
            "Processing: 28.57%\n",
            "1/1 [==============================] - 9s 9s/step\n",
            "Processing: 42.86%\n",
            "1/1 [==============================] - 11s 11s/step\n",
            "Processing: 57.14%\n",
            "1/1 [==============================] - 10s 10s/step\n",
            "Processing: 71.43%\n",
            "1/1 [==============================] - 9s 9s/step\n",
            "Processing: 85.71%\n",
            "1/1 [==============================] - 3s 3s/step\n",
            "Processing: 100.00%\n",
            "7/7 [==============================] - 65s 9s/step - loss: 1.5860 - accuracy: 0.5204\n",
            "\n",
            "Test Accuracy: 0.5204081535339355\n",
            "Test Loss: 1.5860118865966797\n",
            "\n",
            "Confusion Matrix:\n",
            "[[16 18]\n",
            " [76 86]]\n",
            "\n",
            "Classification Report:\n",
            "              precision    recall  f1-score   support\n",
            "\n",
            "         0.0       0.17      0.47      0.25        34\n",
            "         1.0       0.83      0.53      0.65       162\n",
            "\n",
            "    accuracy                           0.52       196\n",
            "   macro avg       0.50      0.50      0.45       196\n",
            "weighted avg       0.71      0.52      0.58       196\n",
            "\n",
            "\n",
            "Confusion Matrix saved at: /content/drive/MyDrive/confusion_matrix.npy\n"
          ]
        }
      ]
    },
    {
      "cell_type": "code",
      "source": [
        "import os\n",
        "import shutil\n",
        "from sklearn.model_selection import train_test_split\n",
        "\n",
        "def split_data(input_folder, output_folder, train_percent=0.9, test_percent=0.05, val_percent=0.05):\n",
        "    # Create train, test, and val folders in the output directory\n",
        "    train_folder = os.path.join(output_folder, 'train')\n",
        "    test_folder = os.path.join(output_folder, 'test')\n",
        "    val_folder = os.path.join(output_folder, 'val')\n",
        "\n",
        "    os.makedirs(train_folder, exist_ok=True)\n",
        "    os.makedirs(test_folder, exist_ok=True)\n",
        "    os.makedirs(val_folder, exist_ok=True)\n",
        "\n",
        "    for class_folder in os.listdir(input_folder):\n",
        "        input_class_folder = os.path.join(input_folder, class_folder)\n",
        "\n",
        "        if os.path.isdir(input_class_folder):\n",
        "            # Create class-specific train, test, and val folders\n",
        "            train_class_folder = os.path.join(train_folder, class_folder)\n",
        "            test_class_folder = os.path.join(test_folder, class_folder)\n",
        "            val_class_folder = os.path.join(val_folder, class_folder)\n",
        "\n",
        "            os.makedirs(train_class_folder, exist_ok=True)\n",
        "            os.makedirs(test_class_folder, exist_ok=True)\n",
        "            os.makedirs(val_class_folder, exist_ok=True)\n",
        "\n",
        "            # List all files in the input folder\n",
        "            all_files = os.listdir(input_class_folder)\n",
        "            total_files = len(all_files)\n",
        "\n",
        "            # Split files into train, test, and val sets\n",
        "            train_files, test_val_files = train_test_split(all_files, test_size=(test_percent + val_percent), random_state=42)\n",
        "            test_files, val_files = train_test_split(test_val_files, test_size=val_percent/(test_percent + val_percent), random_state=42)\n",
        "\n",
        "            # Copy files to the corresponding class-specific folders\n",
        "            for file_name in train_files:\n",
        "                shutil.copy(os.path.join(input_class_folder, file_name), os.path.join(train_class_folder, file_name))\n",
        "\n",
        "            for file_name in test_files:\n",
        "                shutil.copy(os.path.join(input_class_folder, file_name), os.path.join(test_class_folder, file_name))\n",
        "\n",
        "            for file_name in val_files:\n",
        "                shutil.copy(os.path.join(input_class_folder, file_name), os.path.join(val_class_folder, file_name))\n",
        "\n",
        "# Example usage:\n",
        "input_folder = r\"/content/drive/MyDrive/Dataset_LAG/bare\"\n",
        "output_folder = r\"/content/drive/MyDrive/Dataset_LAG\"  # Change this to the desired output path\n",
        "\n",
        "split_data(input_folder, output_folder)\n",
        "\n"
      ],
      "metadata": {
        "id": "CXq9I8MmuZfb"
      },
      "execution_count": null,
      "outputs": []
    },
    {
      "cell_type": "code",
      "source": [
        "import numpy as np\n",
        "import matplotlib.pyplot as plt\n",
        "\n",
        "# Load the confusion matrix\n",
        "data = np.load('/content/drive/MyDrive/confusion_matrix.npy')\n",
        "\n",
        "# Display the confusion matrix as an image\n",
        "plt.imshow(data, cmap='viridis', interpolation='nearest')\n",
        "plt.colorbar()\n",
        "plt.title('Confusion Matrix')\n",
        "plt.xlabel('Predicted Label')\n",
        "plt.ylabel('True Label')\n",
        "plt.show()\n"
      ],
      "metadata": {
        "colab": {
          "base_uri": "https://localhost:8080/",
          "height": 472
        },
        "id": "E_NblYySxS_z",
        "outputId": "2d8e10a2-f8be-482a-cacb-37679bfecf55"
      },
      "execution_count": null,
      "outputs": [
        {
          "output_type": "display_data",
          "data": {
            "text/plain": [
              "<Figure size 640x480 with 2 Axes>"
            ],
            "image/png": "[encoded data removed]"
          },
          "metadata": {}
        }
      ]
    },
    {
      "cell_type": "code",
      "source": [
        "from tensorflow.keras.models import load_model\n",
        "from sklearn.metrics import confusion_matrix, classification_report\n",
        "import numpy as np\n",
        "\n",
        "# Define the path to your pre-trained model\n",
        "model_path = \"/content/drive/MyDrive/Dataset_Latihan/best_model.h5\"  # Change this to the path of your saved model\n",
        "\n",
        "# Load the pre-trained model\n",
        "loaded_model = load_model(model_path)\n",
        "\n",
        "# Assuming you have loaded your test datasets: glaucoma_test_images, glaucoma_test_labels\n",
        "\n",
        "# Perform predictions on the test set\n",
        "predictions = loaded_model.predict(glaucoma_test_images)\n",
        "predicted_labels = np.round(predictions).flatten()\n",
        "\n",
        "# Convert true labels to binary (assuming it's not binary already)\n",
        "true_labels = np.array(glaucoma_test_labels).flatten()\n",
        "\n",
        "# Evaluate the model on the test set\n",
        "test_loss, test_accuracy = loaded_model.evaluate(glaucoma_test_images, glaucoma_test_labels)\n",
        "\n",
        "# Print test accuracy, test loss, confusion matrix, and classification report\n",
        "print(f\"Test Accuracy: {test_accuracy}\")\n",
        "print(f\"Test Loss: {test_loss}\")\n",
        "print(\"\\nConfusion Matrix:\")\n",
        "print(confusion_matrix(true_labels, predicted_labels))\n",
        "print(\"\\nClassification Report:\")\n",
        "print(classification_report(true_labels, predicted_labels))"
      ],
      "metadata": {
        "id": "YPOVA_PuyUKg"
      },
      "execution_count": null,
      "outputs": []
    }
  ]
}